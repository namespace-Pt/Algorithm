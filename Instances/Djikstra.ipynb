{
 "metadata": {
  "language_info": {
   "codemirror_mode": {
    "name": "ipython",
    "version": 3
   },
   "file_extension": ".py",
   "mimetype": "text/x-python",
   "name": "python",
   "nbconvert_exporter": "python",
   "pygments_lexer": "ipython3",
   "version": "3.8.3-final"
  },
  "orig_nbformat": 2,
  "kernelspec": {
   "name": "Python 3.8.3 64-bit ('base': conda)",
   "display_name": "Python 3.8.3 64-bit ('base': conda)",
   "metadata": {
    "interpreter": {
     "hash": "6abfa634fa4e85825c6ec382d01af11eac59c8e30fd5399b5bc9f018db003425"
    }
   }
  }
 },
 "nbformat": 4,
 "nbformat_minor": 2,
 "cells": [
  {
   "cell_type": "code",
   "execution_count": 75,
   "metadata": {},
   "outputs": [
    {
     "output_type": "execute_result",
     "data": {
      "text/plain": [
       "[[0, 10, inf, 30, 100],\n",
       " [inf, 0, 50, inf, inf],\n",
       " [inf, inf, 0, inf, 10],\n",
       " [inf, inf, 20, 0, 60],\n",
       " [inf, inf, inf, inf, 0]]"
      ]
     },
     "metadata": {},
     "execution_count": 75
    }
   ],
   "source": [
    "import math\n",
    "from collections import deque\n",
    "\n",
    "inf = math.inf\n",
    "adj_matrix = []\n",
    "\n",
    "n = 5\n",
    "for i in range(5):\n",
    "    adj_matrix.append([inf] * 5)\n",
    "    adj_matrix[i][i] = 0\n",
    "\n",
    "adj_matrix[0][1] = 10\n",
    "adj_matrix[0][4] = 100\n",
    "adj_matrix[0][3] = 30\n",
    "adj_matrix[1][2] = 50\n",
    "adj_matrix[2][4] = 10\n",
    "adj_matrix[3][2] = 20\n",
    "adj_matrix[3][4] = 60\n",
    "adj_matrix"
   ]
  },
  {
   "cell_type": "code",
   "execution_count": 117,
   "metadata": {},
   "outputs": [],
   "source": [
    "def djikstra(start,adj_matrix,n):\n",
    "    traversed = [0] * n\n",
    "    distance = [inf] * n\n",
    "    path = [-1] * n\n",
    "\n",
    "    # traversed[start] = 1\n",
    "\n",
    "    for i in range(n):\n",
    "        distance[i] = adj_matrix[start][i]\n",
    "\n",
    "    # 每一次都会有一个新的顶并到集合S中，在程序里表现为traversed[i] = 1\n",
    "    for i in range(n):\n",
    "        _min = inf\n",
    "        for j in range(n):\n",
    "            if distance[j] < _min and traversed[j] != 1:\n",
    "                _min = distance[j]\n",
    "                _min_idx = j\n",
    "        \n",
    "        traversed[_min_idx] = 1\n",
    "\n",
    "        for j in range(n):\n",
    "            if distance[j] > _min + adj_matrix[_min_idx][j]:\n",
    "                distance[j] = _min + adj_matrix[_min_idx][j]\n",
    "                path[j] = _min_idx\n",
    "    return distance,path\n",
    "    \n",
    "def backtracking(path,start,end):\n",
    "    stack = deque()\n",
    "    step = path[end - 1]\n",
    "    # if step == -1:\n",
    "    #     stack.append(start)\n",
    "\n",
    "    stack.append(end)\n",
    "    \n",
    "    while step != -1:\n",
    "        stack.append(step + 1)\n",
    "        step = path[step]\n",
    "\n",
    "    stack.append(start)\n",
    "\n",
    "    while stack:\n",
    "        print(stack.pop())"
   ]
  },
  {
   "cell_type": "code",
   "execution_count": 118,
   "metadata": {},
   "outputs": [
    {
     "output_type": "execute_result",
     "data": {
      "text/plain": [
       "([0, 10, 50, 30, 60], [-1, -1, 3, -1, 2])"
      ]
     },
     "metadata": {},
     "execution_count": 118
    }
   ],
   "source": [
    "distance,path = djikstra(0,adj_matrix,n)\n",
    "distance,path"
   ]
  },
  {
   "cell_type": "code",
   "execution_count": 120,
   "metadata": {},
   "outputs": [
    {
     "output_type": "stream",
     "name": "stdout",
     "text": [
      "1\n4\n3\n5\n"
     ]
    }
   ],
   "source": [
    "backtracking(path,1,5)"
   ]
  },
  {
   "cell_type": "code",
   "execution_count": null,
   "metadata": {},
   "outputs": [],
   "source": []
  }
 ]
}