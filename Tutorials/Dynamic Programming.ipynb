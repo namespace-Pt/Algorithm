{
 "metadata": {
  "language_info": {
   "codemirror_mode": {
    "name": "ipython",
    "version": 3
   },
   "file_extension": ".py",
   "mimetype": "text/x-python",
   "name": "python",
   "nbconvert_exporter": "python",
   "pygments_lexer": "ipython3",
   "version": "3.8.3-final"
  },
  "orig_nbformat": 2,
  "kernelspec": {
   "name": "Python 3.8.3 64-bit ('base': conda)",
   "display_name": "Python 3.8.3 64-bit ('base': conda)",
   "metadata": {
    "interpreter": {
     "hash": "6abfa634fa4e85825c6ec382d01af11eac59c8e30fd5399b5bc9f018db003425"
    }
   }
  }
 },
 "nbformat": 4,
 "nbformat_minor": 2,
 "cells": [
  {
   "cell_type": "markdown",
   "metadata": {},
   "source": [
    "# 钢条切割\n",
    "\n",
    "![](img/1_1.png)\n",
    "\n",
    "$$r_n = max_{0\\leq i\\leq n}(r_i + r_{n-i})$$\n",
    "\n",
    "$n$: total length of steel bar\n",
    "\n",
    "$R$: array saving max gain\n",
    "\n",
    "$cut$: array saving cutting position\n",
    "\n",
    "$price$: pre-defined price for each length of steel"
   ]
  },
  {
   "cell_type": "code",
   "execution_count": 1,
   "metadata": {},
   "outputs": [],
   "source": [
    "n = 10\n",
    "R = [0]*(n+1)\n",
    "cut = [0]*(n+1)\n",
    "price = [0,1,5,8,9,10,17,17,20,24,30]"
   ]
  },
  {
   "cell_type": "markdown",
   "metadata": {},
   "source": [
    "bottom-up\n",
    "\n",
    "$i$：length of steel(child problem)\n",
    "\n",
    "$j$：cutting position (from left)"
   ]
  },
  {
   "cell_type": "code",
   "execution_count": 2,
   "metadata": {},
   "outputs": [
    {
     "output_type": "execute_result",
     "data": {
      "text/plain": [
       "[1, 5, 8, 10, 13, 17, 18, 22, 25, 30]"
      ]
     },
     "metadata": {},
     "execution_count": 2
    }
   ],
   "source": [
    "for i in range(1,n+1):\n",
    "    for j in range(1,i+1):\n",
    "        # 这里的R[i-j]一定是提前算过的最优值\n",
    "        val = price[j] + R[i-j]\n",
    "        if(val > R[i]):\n",
    "            R[i] = val\n",
    "            # 保存长度为i的钢条的切割位置\n",
    "            cut[i] = j\n",
    "\n",
    "R[1:]"
   ]
  },
  {
   "cell_type": "markdown",
   "metadata": {},
   "source": [
    "backtracking"
   ]
  },
  {
   "cell_type": "code",
   "execution_count": 3,
   "metadata": {},
   "outputs": [
    {
     "output_type": "stream",
     "name": "stdout",
     "text": [
      "10\n"
     ]
    }
   ],
   "source": [
    "i = n\n",
    "while i > 0:\n",
    "    print(cut[i])\n",
    "    i -= cut[i]"
   ]
  },
  {
   "cell_type": "markdown",
   "metadata": {},
   "source": [
    "# 最长公共子串(LCS)"
   ]
  },
  {
   "cell_type": "code",
   "execution_count": 4,
   "metadata": {},
   "outputs": [
    {
     "output_type": "execute_result",
     "data": {
      "text/plain": [
       "([[0, 0, 0, 0, 1, 1, 1],\n",
       "  [0, 1, 1, 1, 1, 2, 2],\n",
       "  [0, 1, 1, 2, 2, 2, 2],\n",
       "  [0, 1, 1, 2, 2, 3, 3],\n",
       "  [0, 1, 2, 2, 2, 3, 3],\n",
       "  [0, 1, 2, 2, 3, 3, 4],\n",
       "  [0, 1, 2, 2, 3, 4, 4]],\n",
       " [[0, '↑', '↑', '↑', '↖', '←', '↖'],\n",
       "  [0, '↖', '←', '←', '↑', '↖', '←'],\n",
       "  [0, '↑', '↑', '↖', '←', '↑', '↑'],\n",
       "  [0, '↖', '↑', '↑', '↑', '↖', '←'],\n",
       "  [0, '↑', '↖', '↑', '↑', '↑', '↑'],\n",
       "  [0, '↑', '↑', '↑', '↖', '↑', '↖'],\n",
       "  [0, '↖', '↑', '↑', '↑', '↖', '↑']])"
      ]
     },
     "metadata": {},
     "execution_count": 4
    }
   ],
   "source": [
    "X = 'ABCBDAB'\n",
    "Y = 'BDCABA'\n",
    "m = len(X)\n",
    "n = len(Y)\n",
    "path = []\n",
    "length = []\n",
    "for i in range(m+1):\n",
    "    path.append([0]*(n+1))\n",
    "    length.append([0]*(n+1))\n",
    "\n",
    "for i in range(1,m+1):\n",
    "    for j in range(1,n+1):\n",
    "        if X[i-1] == Y[j-1]:\n",
    "            length[i][j] = length[i-1][j-1]+1\n",
    "            path[i][j] = '↖'\n",
    "        elif length[i-1][j] >= length[i][j-1]:\n",
    "            length[i][j] = length[i-1][j]\n",
    "            path[i][j] = '↑'\n",
    "        else:\n",
    "            length[i][j] = length[i][j-1]\n",
    "            path[i][j] = '←'\n",
    "\n",
    "length[1:],path[1:]"
   ]
  },
  {
   "cell_type": "markdown",
   "metadata": {},
   "source": [
    "重构最优解"
   ]
  },
  {
   "cell_type": "code",
   "execution_count": 5,
   "metadata": {},
   "outputs": [
    {
     "output_type": "stream",
     "name": "stdout",
     "text": [
      "B B\nC C\nB B\nA A\n"
     ]
    }
   ],
   "source": [
    "def printLCS(X,Y,path,i,j):\n",
    "    if i == 0 or j == 0:\n",
    "        return\n",
    "    if path[i][j] == '↖':\n",
    "        printLCS(X,Y,path,i-1,j-1)\n",
    "        print(X[i-1],Y[j-1])\n",
    "    elif path[i][j] == '↑':\n",
    "        printLCS(X,Y,path,i-1,j)\n",
    "    else:\n",
    "        printLCS(X,Y,path,i,j-1)\n",
    "\n",
    "printLCS(X,Y,path,m,n)"
   ]
  },
  {
   "cell_type": "markdown",
   "metadata": {},
   "source": [
    "去掉表path，在$O(1)$的时间内通过length判断path，回溯时注意判断$x[i]$和$y[j]$是否相等"
   ]
  },
  {
   "cell_type": "code",
   "execution_count": 6,
   "metadata": {},
   "outputs": [
    {
     "output_type": "stream",
     "name": "stdout",
     "text": [
      "Length of Longest Common String between ABCBDAB and BDCABA is 4\nLongest Common String is: BDAB"
     ]
    }
   ],
   "source": [
    "def printLCS(X,Y,length,i,j):\n",
    "    if i == 0 or j == 0:\n",
    "        return\n",
    "    if X[i-1] == Y[j-1] and length[i][j] == length[i-1][j-1]+1:\n",
    "        printLCS(X,Y,length,i-1,j-1)\n",
    "        print(X[i-1],end='')\n",
    "    elif length[i][j] == length[i][j-1]:\n",
    "        printLCS(X,Y,length,i,j-1)\n",
    "    elif length[i][j] == length[i-1][j]:\n",
    "        printLCS(X,Y,length,i-1,j)\n",
    "\n",
    "print('Length of Longest Common String between %s and %s is %d' % (X,Y,length[m][n]))\n",
    "print('Longest Common String is: ',end='')\n",
    "printLCS(X,Y,length,m,n)\n"
   ]
  },
  {
   "cell_type": "markdown",
   "metadata": {},
   "source": [
    "# 矩阵链乘\n",
    "\n",
    "![](img/1_2.png)\n",
    "\n",
    "$n$: length of matrix chain **plus 1**\n",
    "\n",
    "$p[i]$: column number of the $i$th matrix\n",
    "\n",
    "$Mult[i][j]$：minimum multiplication time of $A_i \\cdots A_j$\n",
    "\n",
    "$Part[i][j]$: optimal backet position of $A_i \\cdots A_j$"
   ]
  },
  {
   "cell_type": "code",
   "execution_count": 7,
   "metadata": {},
   "outputs": [
    {
     "output_type": "execute_result",
     "data": {
      "text/plain": [
       "([[0, inf, inf, inf, inf, inf, inf],\n",
       "  [0, 0, inf, inf, inf, inf, inf],\n",
       "  [0, 0, 0, inf, inf, inf, inf],\n",
       "  [0, 0, 0, 0, inf, inf, inf],\n",
       "  [0, 0, 0, 0, 0, inf, inf],\n",
       "  [0, 0, 0, 0, 0, 0, inf],\n",
       "  [0, 0, 0, 0, 0, 0, 0]],\n",
       " [[0, 0, 0, 0, 0, 0, 0],\n",
       "  [0, 0, 0, 0, 0, 0, 0],\n",
       "  [0, 0, 0, 0, 0, 0, 0],\n",
       "  [0, 0, 0, 0, 0, 0, 0],\n",
       "  [0, 0, 0, 0, 0, 0, 0],\n",
       "  [0, 0, 0, 0, 0, 0, 0],\n",
       "  [0, 0, 0, 0, 0, 0, 0]])"
      ]
     },
     "metadata": {},
     "execution_count": 7
    }
   ],
   "source": [
    "import math\n",
    "p = [30,35,15,5,10,20,25]\n",
    "n = len(p)\n",
    "Mult = []\n",
    "Part = []\n",
    "for i in range(0,n):\n",
    "    Mult.append([math.inf]*n)\n",
    "    Part.append([0]*n)\n",
    "\n",
    "for i in range(n):\n",
    "    for j in range(0,i+1):\n",
    "        Mult[i][j] = 0\n",
    "        \n",
    "Mult,Part"
   ]
  },
  {
   "cell_type": "markdown",
   "metadata": {},
   "source": [
    "$i$: $i$th matrix\n",
    "\n",
    "$j$: $j$th matrix\n",
    "\n",
    "$l$: length of matrix chain (child problem)\n",
    "\n",
    "- calculating optimal $Mult[i][j]$ requires optimal $M[k][j]$ and $M[i][k]$ where $i \\leq k \\leq j$, thus we should follow the order of the length of matrix chain, not the ascending order of i and j"
   ]
  },
  {
   "cell_type": "code",
   "execution_count": 8,
   "metadata": {},
   "outputs": [
    {
     "output_type": "execute_result",
     "data": {
      "text/plain": [
       "([[0, 0, 15750, 7875, 9375, 11875, 15125],\n",
       "  [0, 0, 0, 2625, 4375, 7125, 10500],\n",
       "  [0, 0, 0, 0, 750, 2500, 5375],\n",
       "  [0, 0, 0, 0, 0, 1000, 3500],\n",
       "  [0, 0, 0, 0, 0, 0, 5000],\n",
       "  [0, 0, 0, 0, 0, 0, 0]],\n",
       " [[0, 0, 1, 1, 3, 3, 3],\n",
       "  [0, 0, 0, 2, 3, 3, 3],\n",
       "  [0, 0, 0, 0, 3, 3, 3],\n",
       "  [0, 0, 0, 0, 0, 4, 5],\n",
       "  [0, 0, 0, 0, 0, 0, 5],\n",
       "  [0, 0, 0, 0, 0, 0, 0]])"
      ]
     },
     "metadata": {},
     "execution_count": 8
    }
   ],
   "source": [
    "# 这是计算了1 1;1 2;1 3;...;1 n；这样算是错的，为什么？\n",
    "# for i in range(1,n):\n",
    "#     for j in range(1,n):\n",
    "#         for k in range(i,j):\n",
    "#             tmp = Mult[i][k] + Mult[k+1][j] + p[i-1]*p[k]*p[j]\n",
    "#             if tmp < Mult[i][j]:\n",
    "#                 Mult[i][j] = tmp\n",
    "\n",
    "# 计算1 2；2 3；3 4；4 5...\n",
    "# here n = 7\n",
    "for l in range(2,n):\n",
    "    for i in range(1,n-l+1):\n",
    "        j = i+l-1\n",
    "        for k in range(i,j):\n",
    "            tmp = Mult[i][k] + Mult[k+1][j] + p[i-1]*p[k]*p[j]\n",
    "            if tmp < Mult[i][j]:\n",
    "                Mult[i][j] = tmp\n",
    "                Part[i][j] = k\n",
    "                \n",
    "Mult[1:],Part[1:]"
   ]
  },
  {
   "cell_type": "markdown",
   "metadata": {},
   "source": [
    "Backtracking"
   ]
  },
  {
   "cell_type": "code",
   "execution_count": 9,
   "metadata": {},
   "outputs": [
    {
     "output_type": "stream",
     "name": "stdout",
     "text": [
      "((A(AA))((AA)A))"
     ]
    }
   ],
   "source": [
    "def printMatrixChain(Part,i,j):    \n",
    "    if i == j:\n",
    "        print('A',end='')\n",
    "    else:\n",
    "        print('(',end='')\n",
    "        k = Part[i][j]\n",
    "        printMatrixChain(Part,i,k)\n",
    "        printMatrixChain(Part,k+1,j)\n",
    "        print(')',end='')\n",
    "\n",
    "printMatrixChain(Part,1,6)"
   ]
  },
  {
   "cell_type": "code",
   "execution_count": 10,
   "metadata": {},
   "outputs": [
    {
     "output_type": "execute_result",
     "data": {
      "text/plain": [
       "[[0, 0, 0, 0, 1, 1, 1],\n",
       " [0, 1, 1, 1, 1, 2, 2],\n",
       " [0, 1, 1, 2, 2, 2, 2],\n",
       " [0, 1, 1, 2, 2, 3, 3],\n",
       " [0, 1, 2, 2, 2, 3, 3],\n",
       " [0, 1, 2, 2, 3, 3, 4],\n",
       " [0, 1, 2, 2, 3, 4, 4]]"
      ]
     },
     "metadata": {},
     "execution_count": 10
    }
   ],
   "source": [
    "X = 'ABCBDAB'\n",
    "Y = 'BDCABA'\n",
    "m = len(X)\n",
    "n = len(Y)\n",
    "length = []\n",
    "for i in range(m+1):\n",
    "    length.append([0]*(n+1))\n",
    "\n",
    "for i in range(1,m+1):\n",
    "    for j in range(1,n+1):\n",
    "        if X[i-1] == Y[j-1]:\n",
    "            length[i][j] = length[i-1][j-1]+1\n",
    "        elif length[i-1][j] >= length[i][j-1]:\n",
    "            length[i][j] = length[i-1][j]\n",
    "        else:\n",
    "            length[i][j] = length[i][j-1]\n",
    "\n",
    "length[1:]"
   ]
  },
  {
   "cell_type": "markdown",
   "metadata": {},
   "source": [
    "# 最优二叉搜索树"
   ]
  },
  {
   "cell_type": "markdown",
   "metadata": {},
   "source": [
    "$key[i]$: $i$th key\n",
    "\n",
    "$p[i]$: searching probability of $i$th key, $0$th is set default to 0\n",
    "\n",
    "$q[i]$: searching probability of keys between $i$th key and $i+1$th key\n",
    "\n",
    "$n$: number of keys\n",
    "\n",
    "$Estimate[i][j]$: Estimiated Cost for the optimal searching binary tree cosisting of keys between $i$ and $j$, endpoints included\n",
    "\n",
    "$Cost[i][j]$: sum of the probability that points between $i$ and $j$ (endpoints included) is searched\n",
    "\n",
    "$Root[i][j]$: root of the child tree cosisting of points between $i$ and $j$"
   ]
  },
  {
   "cell_type": "code",
   "execution_count": 31,
   "metadata": {},
   "outputs": [
    {
     "output_type": "execute_result",
     "data": {
      "text/plain": [
       "(4,\n",
       " [[inf, inf, inf, inf, inf],\n",
       "  [2, inf, inf, inf, inf],\n",
       "  [inf, 3, inf, inf, inf],\n",
       "  [inf, inf, 1, inf, inf],\n",
       "  [inf, inf, inf, 1, inf],\n",
       "  [inf, inf, inf, inf, 1]],\n",
       " [[0, 0, 0, 0, 0],\n",
       "  [2, 0, 0, 0, 0],\n",
       "  [0, 3, 0, 0, 0],\n",
       "  [0, 0, 1, 0, 0],\n",
       "  [0, 0, 0, 1, 0],\n",
       "  [0, 0, 0, 0, 1]],\n",
       " [[0, 0, 0, 0, 0],\n",
       "  [0, 0, 0, 0, 0],\n",
       "  [0, 0, 0, 0, 0],\n",
       "  [0, 0, 0, 0, 0],\n",
       "  [0, 0, 0, 0, 0]])"
      ]
     },
     "metadata": {},
     "execution_count": 31
    }
   ],
   "source": [
    "import math\n",
    "key = ['','do','if','read','while']\n",
    "p = [0,3,3,1,1]\n",
    "q = [2,3,1,1,1]\n",
    "n = len(p) - 1\n",
    "Estimate = []\n",
    "Cost = []\n",
    "Root = []\n",
    "\n",
    "for i in range(n+2):\n",
    "    Estimate.append([math.inf]*(n+1))\n",
    "    Cost.append([0]*(n+1))\n",
    "for i in range(n+1):\n",
    "    Root.append([0]*(n+1))\n",
    "\n",
    "# 初始化\n",
    "for i in range(n+1):\n",
    "    Estimate[i+1][i] = q[i]\n",
    "    Cost[i+1][i] = q[i]\n",
    "\n",
    "n,Estimate,Cost,Root"
   ]
  },
  {
   "cell_type": "code",
   "execution_count": 44,
   "metadata": {},
   "outputs": [
    {
     "output_type": "stream",
     "name": "stdout",
     "text": [
      "estimation cost of optimal search binary tree is 40\n"
     ]
    },
    {
     "output_type": "execute_result",
     "data": {
      "text/plain": [
       "([[2, 13, 25, 32, 40],\n",
       "  [inf, 3, 11, 17, 25],\n",
       "  [inf, inf, 1, 5, 11],\n",
       "  [inf, inf, inf, 1, 5],\n",
       "  [inf, inf, inf, inf, 1]],\n",
       " [[2, 8, 12, 14, 16],\n",
       "  [0, 3, 7, 9, 11],\n",
       "  [0, 0, 1, 3, 5],\n",
       "  [0, 0, 0, 1, 3],\n",
       "  [0, 0, 0, 0, 1]],\n",
       " [[0, 1, 1, 2, 2], [0, 0, 2, 2, 2], [0, 0, 0, 3, 3], [0, 0, 0, 0, 4]])"
      ]
     },
     "metadata": {},
     "execution_count": 44
    }
   ],
   "source": [
    "# l = 1 is not ordinary\n",
    "for l in range(1,n+1):\n",
    "    for i in range(1,n-l+2):\n",
    "        j = i + l\n",
    "        Cost[i][j-1] = Cost[i][j-2] + p[j-1] + q[j-1]\n",
    "        for k in range(i,j):\n",
    "            tmp = Estimate[i][k-1] + Estimate[k+1][j-1] + Cost[i][j-1]\n",
    "            if tmp < Estimate[i][j-1]:\n",
    "                Estimate[i][j-1] = tmp\n",
    "                Root[i][j-1] = k\n",
    "\n",
    "print('estimation cost of optimal search binary tree is {}'.format(Estimate[1][n]))\n",
    "Estimate[1:],Cost[1:],Root[1:]"
   ]
  },
  {
   "cell_type": "markdown",
   "metadata": {},
   "source": [
    "backtracking: equivalent to ouputing a binary tree"
   ]
  },
  {
   "cell_type": "code",
   "execution_count": 42,
   "metadata": {
    "tags": []
   },
   "outputs": [
    {
     "output_type": "stream",
     "name": "stdout",
     "text": [
      "level:0,key:if\nlevel:1,key:do\nlevel:1,key:read\nlevel:2,key:while\n"
     ]
    }
   ],
   "source": [
    "def printBST(Root,i,j,level):\n",
    "    if i == j+1:\n",
    "        return\n",
    "    else:\n",
    "        r = Root[i][j]\n",
    "        print('level:{},key:{}'.format(level,key[r]))\n",
    "        printBST(Root,i,r-1,level+1)\n",
    "        printBST(Root,r+1,j,level+1)\n",
    "\n",
    "printBST(Root,1,n,0)"
   ]
  },
  {
   "cell_type": "code",
   "execution_count": null,
   "metadata": {},
   "outputs": [],
   "source": []
  }
 ]
}