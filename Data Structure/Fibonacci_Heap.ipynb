{
 "metadata": {
  "language_info": {
   "codemirror_mode": {
    "name": "ipython",
    "version": 3
   },
   "file_extension": ".py",
   "mimetype": "text/x-python",
   "name": "python",
   "nbconvert_exporter": "python",
   "pygments_lexer": "ipython3",
   "version": "3.8.3-final"
  },
  "orig_nbformat": 2,
  "kernelspec": {
   "name": "Python 3.8.3 64-bit ('base': conda)",
   "display_name": "Python 3.8.3 64-bit ('base': conda)",
   "metadata": {
    "interpreter": {
     "hash": "6abfa634fa4e85825c6ec382d01af11eac59c8e30fd5399b5bc9f018db003425"
    }
   }
  }
 },
 "nbformat": 4,
 "nbformat_minor": 2,
 "cells": [
  {
   "cell_type": "markdown",
   "metadata": {},
   "source": [
    "### 堆, 可以理解为一个深度为$k$的二叉树, 在前$k-1$个深度上起都是完全二叉树\n",
    "- 最大堆: 所有父节点大于孩子节点\n",
    "- 最小堆: 所有父节点小于孩子节点\n",
    "### 建堆\n",
    "#### 从数组中构建堆\n",
    "- n个元素的堆一定有$n-\\lfloor \\frac{n}{2} \\rfloor$个叶节点, 参见联系6.1-7\n",
    "因此从数组第$\\lfloor \\frac{n}{2} \\rfloor$个元素开始, 往前遍历\n",
    "\n",
    "#### 从插入中构建\n",
    "- 和上述没有区别, 不过是每次插入节点都会调用heapify函数"
   ]
  },
  {
   "cell_type": "code",
   "execution_count": 1,
   "metadata": {},
   "outputs": [],
   "source": [
    "def _left(idx):\n",
    "    # if idx:\n",
    "    return 2*idx\n",
    "    # else:\n",
    "        # return 1\n",
    "def _right(idx):\n",
    "    # if idx:\n",
    "    return 2*idx + 1\n",
    "    # else:\n",
    "        # return 2\n",
    "\n",
    "class Node:\n",
    "    def __init__(self, key=0, pnt=None, cld=None, degree=0, mark=False):\n",
    "        self.key = key\n",
    "        # self.value = 0\n",
    "        self.pnt = pnt\n",
    "        self.cld = cld\n",
    "        self.left = self\n",
    "        self.right = self\n",
    "        self.degree = degree\n",
    "        self.mark = mark\n",
    "\n",
    "    def __repr__(self):\n",
    "        return str(\"key:{}, left:{}, right:{}\".format(self.key,self.left.key,self.right.key))\n",
    "\n",
    "class MinHeap:\n",
    "    def __init__(self):\n",
    "        self.nodes = [-1]\n",
    "        self.length = 0\n",
    "\n",
    "    def _heapify(self,idx):\n",
    "        if idx > len(self.nodes):\n",
    "            print(\"Heap Overflow!!\")\n",
    "            raise IndexError\n",
    "        node = self.nodes[idx]\n",
    "        idx_left = _left(idx)\n",
    "        idx_right = _right(idx)\n",
    "\n",
    "        # left = self.nodes[idx_left]\n",
    "        # right = self.nodes[idx_right]\n",
    "        \n",
    "        idx_min = idx\n",
    "\n",
    "        if idx_left < self.length and node.key > self.nodes[idx_left].key:\n",
    "            idx_min = idx_left\n",
    "        if idx_right < self.length and self.nodes[idx_min].key > self.nodes[idx_right].key:\n",
    "            idx_min = idx_right\n",
    "        \n",
    "        if idx_min != idx:\n",
    "            self.nodes[idx], self.nodes[idx_min] = self.nodes[idx_min], self.nodes[idx]\n",
    "            self._heapify(idx_min)\n",
    "    \n",
    "    def _extractMin(self):\n",
    "        result = self.nodes[1]\n",
    "        if self.length > 0:\n",
    "            print('before:{}'.format(self.nodes))\n",
    "            self.nodes[1], self.nodes[self.length] = self.nodes[self.length], self.nodes[1]\n",
    "            print(\"heap:{}\".format(self.nodes))\n",
    "            self._heapify(1)\n",
    "            print('after:{}'.format(self.nodes))\n",
    "            self.length -= 1\n",
    "            return result\n",
    "        else:\n",
    "            print('underflow!')\n",
    "    \n",
    "    def _getMin(self):\n",
    "        return self.nodes[1]\n",
    "    \n",
    "    def insert(self,node):\n",
    "        self.nodes.insert(1,node)\n",
    "        self.length += 1\n",
    "        self._heapify(1)"
   ]
  },
  {
   "cell_type": "markdown",
   "metadata": {},
   "source": [
    "斐波那契堆, 不会"
   ]
  },
  {
   "cell_type": "code",
   "execution_count": 33,
   "metadata": {},
   "outputs": [],
   "source": [
    "import math\n",
    "def _append(dest,node):\n",
    "    \"\"\"\n",
    "    将node节点添加到dest节点左边\n",
    "    \"\"\"\n",
    "    if not dest:\n",
    "        print(\"dest is empty!\")\n",
    "\n",
    "    target = dest.left\n",
    "    dest.left = node\n",
    "    node.right = dest\n",
    "\n",
    "    target.right = node\n",
    "    node.left = target\n",
    "\n",
    "def _concat(node1,node2):\n",
    "    if not node1:\n",
    "        print(\"node #1 empty!\")\n",
    "    if not node2:\n",
    "        print(\"node #2 empty!\")\n",
    "\n",
    "    left_1 = node1.left\n",
    "    left_2 = node2.left\n",
    "\n",
    "    node1.left = left_2\n",
    "    left_2.right = node1\n",
    "    \n",
    "    node2.left = left_1\n",
    "    left_1.right = node2\n",
    "\n",
    "def _delete(node):\n",
    "    if not node:\n",
    "        print(\"node is empty!\")\n",
    "    left = node.left\n",
    "    right = node.right\n",
    "    left.right = right\n",
    "    right.left = left\n",
    "\n",
    "    # node.left = None\n",
    "    # node.right = None\n",
    "\n",
    "def _link(y, x):\n",
    "    \"\"\"\n",
    "    从根链表删除y, 把y加入x的孩子链表, x的度数+1且y的标志记为False\n",
    "    \"\"\"\n",
    "    _delete(y)\n",
    "    if x.cld:\n",
    "        _append(x.cld,y)\n",
    "    else:\n",
    "        y.left = y\n",
    "        y.right = y\n",
    "        x.cld = y\n",
    "    x.degree += 1\n",
    "    y.mark = False"
   ]
  },
  {
   "cell_type": "code",
   "execution_count": 50,
   "metadata": {},
   "outputs": [],
   "source": [
    "class Fibonacci_Heap():\n",
    "    def __init__(self):\n",
    "        self.min = None\n",
    "        self.n = 0\n",
    "\n",
    "    def union(self,H2):\n",
    "        H = Fibonacci_Heap()\n",
    "        H.min = self.min\n",
    "        # 两者链表合并\n",
    "        _concat(H.min, H2.min)\n",
    "\n",
    "        if self.min == None or (H2.min != None and H2.min.key < self.min.key):\n",
    "            H.min = H2.min\n",
    "        \n",
    "        H.n = self.n + H2.n\n",
    "        return H\n",
    "    \n",
    "    def insert(self,x):\n",
    "        x.degree = 0\n",
    "        x.pnt = None\n",
    "        x.cld = None\n",
    "        x.mark = False\n",
    "        if not self.min:\n",
    "            x.left = x\n",
    "            x.right = x\n",
    "            self.min = x\n",
    "        \n",
    "        else:\n",
    "            \"\"\"\n",
    "            加入到链表里, 放在min节点的左边, 根链表中节点次序是任意的, 所以直接加到最小节点的左边\n",
    "            \"\"\"\n",
    "            _append(self.min,x)\n",
    "\n",
    "            if x.key < self.min.key:\n",
    "                self.min = x\n",
    "        self.n += 1\n",
    "    \n",
    "    def extractMin(self):\n",
    "        ptr = self.min\n",
    "        if ptr:\n",
    "            if ptr.cld:\n",
    "                cld = ptr.cld\n",
    "                start = cld\n",
    "\n",
    "                while 1:\n",
    "                    cld.prn = None\n",
    "                    next_cld = cld.left\n",
    "\n",
    "                    # ptr.left == ptr怎么办？\n",
    "                    # 试了一下是没有影响的\n",
    "                    _append(ptr.left,cld)\n",
    "                    cld = next_cld\n",
    "                    if cld == start:\n",
    "                        break\n",
    "\n",
    "                # _concat(ptr.left,ptr.cld)\n",
    "                \n",
    "            # 从根链表中删除ptr\n",
    "            _delete(ptr)\n",
    "\n",
    "            if ptr == ptr.right:\n",
    "                self.min = None\n",
    "            else:\n",
    "                # 这里是随便指的\n",
    "                self.min = ptr.right\n",
    "\n",
    "                self._consolidate()\n",
    "\n",
    "            self.n -= 1\n",
    "        return ptr\n",
    "    \n",
    "    def _consolidate(self):\n",
    "        A = [None] * int(math.log(self.n) + 1)\n",
    "        \n",
    "        start = self.min\n",
    "        iterator = start\n",
    "        while 1:\n",
    "            degree = iterator.degree\n",
    "            \n",
    "            next_node = iterator.left\n",
    "            \n",
    "            while A[degree]:\n",
    "                another = A[degree]\n",
    "                \n",
    "                if iterator.key > another.key:\n",
    "                    iterator, another = another,iterator\n",
    "\n",
    "                _link(another,iterator)\n",
    "\n",
    "                A[degree] = None\n",
    "                degree += 1\n",
    "            \n",
    "            A[degree] = iterator\n",
    "            \n",
    "            iterator = next_node\n",
    "            if iterator == start:\n",
    "                break\n",
    "        \n",
    "        self.min = None\n",
    "        \n",
    "        for node in A:\n",
    "            if node:\n",
    "                if self.min == None:\n",
    "                    node.left = node\n",
    "                    node.right = node\n",
    "                    self.min = node\n",
    "                else:\n",
    "                    _append(self.min,node)\n",
    "                    if node.key < self.min.key:\n",
    "                        self.min = node"
   ]
  },
  {
   "cell_type": "code",
   "execution_count": 51,
   "metadata": {},
   "outputs": [],
   "source": [
    "a = Node(1)\n",
    "b = Node(2)\n",
    "c = Node(3)\n",
    "d = Node(4)\n",
    "e = Node(5)"
   ]
  },
  {
   "cell_type": "code",
   "execution_count": 52,
   "metadata": {},
   "outputs": [],
   "source": [
    "fib_heap_1 = Fibonacci_Heap()\n",
    "fib_heap_2 = Fibonacci_Heap()\n",
    "fib_heap_1.insert(d)\n",
    "fib_heap_1.insert(a)\n",
    "fib_heap_1.insert(c)\n",
    "fib_heap_2.insert(b)\n",
    "fib_heap_2.insert(e)"
   ]
  },
  {
   "cell_type": "code",
   "execution_count": 53,
   "metadata": {},
   "outputs": [
    {
     "output_type": "execute_result",
     "data": {
      "text/plain": [
       "key:1, left:3, right:4"
      ]
     },
     "metadata": {},
     "execution_count": 53
    }
   ],
   "source": [
    "fib_heap_1.extractMin()"
   ]
  },
  {
   "cell_type": "code",
   "execution_count": 54,
   "metadata": {},
   "outputs": [
    {
     "output_type": "execute_result",
     "data": {
      "text/plain": [
       "key:2, left:3, right:5"
      ]
     },
     "metadata": {},
     "execution_count": 54
    }
   ],
   "source": [
    "fib_heap_union = fib_heap_1.union(fib_heap_2)\n",
    "fib_heap_union.extractMin()"
   ]
  },
  {
   "cell_type": "code",
   "execution_count": 12,
   "metadata": {},
   "outputs": [
    {
     "output_type": "execute_result",
     "data": {
      "text/plain": [
       "key:4, left:4, right:4"
      ]
     },
     "metadata": {},
     "execution_count": 12
    }
   ],
   "source": [
    "fib_heap.extractMin()"
   ]
  },
  {
   "cell_type": "code",
   "execution_count": 13,
   "metadata": {},
   "outputs": [],
   "source": [
    "fib_heap.min"
   ]
  },
  {
   "cell_type": "code",
   "execution_count": null,
   "metadata": {},
   "outputs": [],
   "source": []
  }
 ]
}